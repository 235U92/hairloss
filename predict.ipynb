{
  "nbformat": 4,
  "nbformat_minor": 0,
  "metadata": {
    "colab": {
      "provenance": [],
      "gpuType": "T4",
      "authorship_tag": "ABX9TyP4QP7MjmQA11TU0R2ybP8/",
      "include_colab_link": true
    },
    "kernelspec": {
      "name": "python3",
      "display_name": "Python 3"
    },
    "language_info": {
      "name": "python"
    },
    "accelerator": "GPU"
  },
  "cells": [
    {
      "cell_type": "markdown",
      "metadata": {
        "id": "view-in-github",
        "colab_type": "text"
      },
      "source": [
        "<a href=\"https://colab.research.google.com/github/235U92/hairloss/blob/main/predict.ipynb\" target=\"_parent\"><img src=\"https://colab.research.google.com/assets/colab-badge.svg\" alt=\"Open In Colab\"/></a>"
      ]
    },
    {
      "cell_type": "code",
      "source": [
        "import os\n",
        "from keras.models import Model\n",
        "from keras.models import load_model\n",
        "import os\n",
        "from tkinter import filedialog\n",
        "from keras.preprocessing.image import img_to_array\n",
        "from keras.applications.vgg16 import preprocess_input\n",
        "\n",
        "\n",
        "image = filedialog.askopenfilename()\n",
        "model = load_model('vgg16_nft2.h5')\n",
        "\n",
        "image = img_to_array(image)\n",
        "image = image.reshape((1, image.shape[0], image.shape[1], image.shape[2]))\n",
        "image = preprocess_input(image)\n",
        "answer = model.predict(image)\n",
        "\n",
        "print(answer)\n",
        "\n"
      ],
      "metadata": {
        "id": "6i0lxbB5wNrr"
      },
      "execution_count": null,
      "outputs": []
    }
  ]
}